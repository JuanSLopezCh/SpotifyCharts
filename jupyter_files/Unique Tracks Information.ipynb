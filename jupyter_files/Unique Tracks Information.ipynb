{
 "cells": [
  {
   "cell_type": "code",
   "execution_count": null,
   "id": "2056a542",
   "metadata": {},
   "outputs": [],
   "source": [
    "import os\n",
    "import pandas as pd\n",
    "import pyodbc\n",
    "\n",
    "\n",
    "server = 'juanlopezch.database.windows.net'\n",
    "database = 'Spotify_charts'\n",
    "username = '*********'\n",
    "password = '*********'\n"
   ]
  },
  {
   "cell_type": "code",
   "execution_count": null,
   "id": "ab28c83a",
   "metadata": {},
   "outputs": [],
   "source": [
    "import spotipy\n",
    "from spotipy.oauth2 import SpotifyClientCredentials\n",
    "\n",
    "client_id = '***************************'\n",
    "\n",
    "client_secret = '*************************'\n",
    "\n",
    "user = '********'\n",
    "\n",
    "client_credentials_manager = SpotifyClientCredentials(client_id, client_secret)\n",
    "\n",
    "sp = spotipy.Spotify(client_credentials_manager=client_credentials_manager)"
   ]
  },
  {
   "cell_type": "code",
   "execution_count": null,
   "id": "74aae647",
   "metadata": {},
   "outputs": [],
   "source": [
    "# Gathering unique songs uri from already created table.\n",
    "cnxn = pyodbc.connect('DRIVER={SQL Server};SERVER='+server+';DATABASE='+database+';UID='+username+';PWD='+ password)\n",
    "\n",
    "sql_query = \"select distinct uri from dbo.WeeklyCharts\"\n",
    "\n",
    "df = pd.read_sql(sql_query, cnxn)\n",
    "\n",
    "cnxn.close()"
   ]
  },
  {
   "cell_type": "code",
   "execution_count": null,
   "id": "a8b2d4e3",
   "metadata": {},
   "outputs": [],
   "source": [
    "# Created a new DataFrame to storage processed data.\n",
    "df_procesado = pd.DataFrame(columns=['uri', 'Cover', 'popularity', 'explicit', 'danceability',\n",
    "                                    'energy', 'duration_ms'])"
   ]
  },
  {
   "cell_type": "code",
   "execution_count": null,
   "id": "a2def73c",
   "metadata": {},
   "outputs": [],
   "source": [
    "# Iterate on every row\n",
    "for index, row in result.iterrows():\n",
    "    try:\n",
    "        track_id = row['uri']\n",
    "        track_info = sp.track(track_id)\n",
    "\n",
    "        imagen_grande = track_info['album']['images'][0]['url']\n",
    "        popularidad = track_info['popularity']\n",
    "        explicita = track_info['explicit']\n",
    "\n",
    "        temp_df = pd.DataFrame({'uri': [track_id], 'Cover': [imagen_grande], \n",
    "                                'popularity': [popularidad], 'explicit': [explicita]})\n",
    "\n",
    "        df_procesado = pd.concat([df_procesado, temp_df], ignore_index=True)\n",
    "\n",
    "        print(df_procesado.shape)\n",
    "    except Exception as e:\n",
    "        print(f\"An error occurred in the iteration {index}: {e}\")\n"
   ]
  },
  {
   "cell_type": "code",
   "execution_count": null,
   "id": "91ae5fce",
   "metadata": {},
   "outputs": [],
   "source": [
    "# Adding the data on a new table created on the Azure SQL database.\n",
    "cnxn = pyodbc.connect('DRIVER={SQL Server};SERVER='+server+';DATABASE='+database+';UID='+username+';PWD='+ password)\n",
    "cursor = cnxn.cursor()\n",
    "    \n",
    "   \n",
    " #Insert Dataframe into SQL Server:\n",
    "for index, row in df_procesado.iterrows():\n",
    "     cursor.execute(\"INSERT INTO dbo.UniqueSongs (uri,Cover,Popularity,IsExplicit) values(?,?,?,?)\", \n",
    "                    row['uri'], row['Cover'], row['popularity'], row['explicit'])\n",
    "     cnxn.commit()\n",
    "\n",
    "\n",
    "cursor.close()"
   ]
  }
 ],
 "metadata": {
  "kernelspec": {
   "display_name": "Python 3",
   "language": "python",
   "name": "python3"
  },
  "language_info": {
   "codemirror_mode": {
    "name": "ipython",
    "version": 3
   },
   "file_extension": ".py",
   "mimetype": "text/x-python",
   "name": "python",
   "nbconvert_exporter": "python",
   "pygments_lexer": "ipython3",
   "version": "3.11.5"
  }
 },
 "nbformat": 4,
 "nbformat_minor": 5
}
