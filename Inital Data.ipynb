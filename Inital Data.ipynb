{
 "cells": [
  {
   "cell_type": "code",
   "execution_count": null,
   "id": "26447f7e",
   "metadata": {},
   "outputs": [],
   "source": [
    "import os\n",
    "import pandas as pd\n",
    "import pyodbc\n",
    "\n",
    "server = 'juanlopezch.database.windows.net'\n",
    "database = 'Spotify_charts'\n",
    "username = '*********'\n",
    "password = '***********'\n",
    "\n",
    "carpeta_principal = r'C:****Projects\\Spotify 2024\\Spotify Charts'\n",
    "\n",
    "Spotify_charts = []"
   ]
  },
  {
   "cell_type": "code",
   "execution_count": null,
   "id": "30c24bd6",
   "metadata": {},
   "outputs": [],
   "source": [
    "# After downloading several weekly files, all of them are added to one single df\n",
    "for filename in os.listdir(carpeta_principal):\n",
    "    if filename.endswith(\".csv\"):\n",
    "        filepath = os.path.join(carpeta_principal, filename)\n",
    "        df = pd.read_csv(filepath)\n",
    "        df['end_of_week'] = filename\n",
    "\n",
    "        Spotify_charts.append(df)"
   ]
  },
  {
   "cell_type": "code",
   "execution_count": null,
   "id": "79812309",
   "metadata": {},
   "outputs": [],
   "source": [
    "Spotify_charts = pd.concat(Spotify_charts, ignore_index=True)"
   ]
  },
  {
   "cell_type": "code",
   "execution_count": null,
   "id": "f5dd3ad1",
   "metadata": {},
   "outputs": [],
   "source": [
    "# Extracting the date from the file name and formating it.\n",
    "Spotify_charts['end_of_week'] = Spotify_charts['end_of_week'].str.replace('.csv', '')\n",
    "Spotify_charts['end_of_week'] = Spotify_charts['end_of_week'].str.replace('regional-global-weekly-', '')\n",
    "Spotify_charts['end_of_week'] = pd.to_datetime(Spotify_charts['end_of_week'], format='%Y-%m-%d', errors = 'coerce')"
   ]
  },
  {
   "cell_type": "code",
   "execution_count": null,
   "id": "6ac68545",
   "metadata": {},
   "outputs": [],
   "source": [
    "# Created a Unique ID for each song-week\n",
    "Spotify_charts[\"UniqueID\"] = Spotify_charts.apply(lambda x: x[\"uri\"].split(\":\")[-1] + \n",
    "                                      str(x[\"rank\"]) + \n",
    "                                      str(x[\"end_of_week\"].year)[2:] + \n",
    "                                      str(x[\"end_of_week\"].month).zfill(2) +\n",
    "                                      str(x[\"end_of_week\"].day).zfill(2), axis=1)"
   ]
  },
  {
   "cell_type": "code",
   "execution_count": null,
   "id": "b9204dd0",
   "metadata": {},
   "outputs": [],
   "source": [
    "# Removing apostrophes from strings.\n",
    "Spotify_charts['track_name'] = Spotify_charts['track_name'].str.replace(r\"'\", '')\n",
    "Spotify_charts['artist_names'] = Spotify_charts['artist_names'].str.replace(r\"'\", '')\n",
    "Spotify_charts['source'] = Spotify_charts['source'].str.replace(r\"'\", '')"
   ]
  },
  {
   "cell_type": "code",
   "execution_count": null,
   "id": "7afde4c0",
   "metadata": {},
   "outputs": [],
   "source": [
    "cnxn = pyodbc.connect('DRIVER={SQL Server};SERVER='+server+';DATABASE='+database+';UID='+username+';PWD='+ password)\n",
    "cursor = cnxn.cursor()\n",
    "    \n",
    "   \n",
    " #Inserting Dataframe into SQL Server:\n",
    "for index, row in result.iterrows():\n",
    "     cursor.execute(\"INSERT INTO dbo.WeeklyCharts (UniqueID,rank,uri,artist_names,track_name,source,peak_rank,previous_rank,weeks_on_chart,streams,end_of_week) values(?,?,?,?,?,?,?,?,?,?,?)\", \n",
    "                    row['UniqueID'], row['rank'], row['uri'], row['artist_names'], row['track_name'], row['source'], row['peak_rank'], row['previous_rank'], row['weeks_on_chart'], row['streams'], row['end_of_week'])\n",
    "     cnxn.commit()\n",
    "\n",
    "\n",
    "cursor.close()"
   ]
  }
 ],
 "metadata": {
  "kernelspec": {
   "display_name": "Python 3",
   "language": "python",
   "name": "python3"
  },
  "language_info": {
   "codemirror_mode": {
    "name": "ipython",
    "version": 3
   },
   "file_extension": ".py",
   "mimetype": "text/x-python",
   "name": "python",
   "nbconvert_exporter": "python",
   "pygments_lexer": "ipython3",
   "version": "3.11.5"
  }
 },
 "nbformat": 4,
 "nbformat_minor": 5
}
